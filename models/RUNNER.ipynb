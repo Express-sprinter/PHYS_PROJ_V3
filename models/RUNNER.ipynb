{
 "cells": [
  {
   "cell_type": "code",
   "execution_count": 1,
   "id": "92c4194d-e3bb-4235-bce7-3e2f7c9073cf",
   "metadata": {
    "tags": []
   },
   "outputs": [
    {
     "name": "stdout",
     "output_type": "stream",
     "text": [
      "Jupyter environment detected. Enabling Open3D WebVisualizer.\n",
      "[Open3D INFO] WebRTC GUI backend enabled.\n",
      "[Open3D INFO] WebRTCWindowSystem: HTTP handshake server disabled.\n",
      "Original Mean: (-3.02315575815739, 6.420237140115163, 16.222511996161227)\n",
      "New Mean Value: (8.728356063079925e-16, 8.728356063079925e-16, 8.728356063079925e-16)\n",
      "Original Mean: (1.8573309278350516, -6.565971575846834, 24.41668438880707)\n",
      "New Mean Value: (-2.0929093836821802e-17, 8.607089840392966e-16, -1.6743275069457441e-15)\n"
     ]
    }
   ],
   "source": [
    "from rendering.meshes import Mesh\n",
    "from coremaths.vector import Mat3\n",
    "\n",
    "# load an .obj file into a mesh object:\n",
    "def originSetter(inputFile, outputFileName=None):\n",
    "    if outputFileName == None:\n",
    "        outputFileName = inputFile\n",
    "        \n",
    "    meshPath = inputFile  # update to the path of the .obj you want to load\n",
    "    mesh = Mesh.loadFromOBJ(meshPath)\n",
    "\n",
    "    # get the mean of all the mesh's vertices (as a Vec3 object):\n",
    "    meanVert = mesh.meanVert\n",
    "    print(f\"Original Mean: {meanVert}\")\n",
    "\n",
    "    # shift the mesh to centre it on (0, 0, 0)\n",
    "    # (using a transform with no rotation (rotation matrix equal to identity matrix) and no scaling (scaling equal to 1):\n",
    "    shiftedMesh = mesh.transformed(Mat3.identity(), -meanVert, 1)\n",
    "\n",
    "    # the shifted mesh is centred on (0, 0, 0):\n",
    "    print(f\"New Mean Value: {shiftedMesh.meanVert}\")\n",
    "\n",
    "    savePath = outputFileName # update to your desired save path\n",
    "    shiftedMesh.saveOBJ(savePath)\n",
    "    \n",
    "    \n",
    "originSetter(\"weirdCube1.obj\")\n",
    "originSetter(\"cylinder1.obj\")"
   ]
  },
  {
   "cell_type": "code",
   "execution_count": null,
   "id": "fcdabc36-03f6-427c-b459-c261a958e61e",
   "metadata": {},
   "outputs": [],
   "source": []
  }
 ],
 "metadata": {
  "kernelspec": {
   "display_name": "Python 3 (ipykernel)",
   "language": "python",
   "name": "python3"
  },
  "language_info": {
   "codemirror_mode": {
    "name": "ipython",
    "version": 3
   },
   "file_extension": ".py",
   "mimetype": "text/x-python",
   "name": "python",
   "nbconvert_exporter": "python",
   "pygments_lexer": "ipython3",
   "version": "3.11.5"
  }
 },
 "nbformat": 4,
 "nbformat_minor": 5
}
