{
 "cells": [
  {
   "cell_type": "code",
   "execution_count": 1,
   "id": "3be71483-fdc1-49fd-ad9a-b07e8a99d31c",
   "metadata": {
    "tags": []
   },
   "outputs": [
    {
     "ename": "FileNotFoundError",
     "evalue": "[WinError 3] The system cannot find the path specified: 'path/to/your/folder'",
     "output_type": "error",
     "traceback": [
      "\u001b[1;31m---------------------------------------------------------------------------\u001b[0m",
      "\u001b[1;31mFileNotFoundError\u001b[0m                         Traceback (most recent call last)",
      "Cell \u001b[1;32mIn[1], line 5\u001b[0m\n\u001b[0;32m      1\u001b[0m \u001b[38;5;28;01mimport\u001b[39;00m \u001b[38;5;21;01mos\u001b[39;00m\n\u001b[0;32m      3\u001b[0m directory \u001b[38;5;241m=\u001b[39m \u001b[38;5;124m\"\u001b[39m\u001b[38;5;124mpath/to/your/folder\u001b[39m\u001b[38;5;124m\"\u001b[39m\n\u001b[1;32m----> 5\u001b[0m \u001b[38;5;28;01mfor\u001b[39;00m filename \u001b[38;5;129;01min\u001b[39;00m os\u001b[38;5;241m.\u001b[39mlistdir(directory):\n\u001b[0;32m      6\u001b[0m     full_path \u001b[38;5;241m=\u001b[39m os\u001b[38;5;241m.\u001b[39mpath\u001b[38;5;241m.\u001b[39mjoin(directory, filename)\n\u001b[0;32m      8\u001b[0m     \u001b[38;5;28;01mif\u001b[39;00m os\u001b[38;5;241m.\u001b[39mpath\u001b[38;5;241m.\u001b[39misfile(full_path):\n",
      "\u001b[1;31mFileNotFoundError\u001b[0m: [WinError 3] The system cannot find the path specified: 'path/to/your/folder'"
     ]
    }
   ],
   "source": [
    "import os\n",
    "\n",
    "directory = \"path/to/your/folder\"\n",
    "\n",
    "for filename in os.listdir(directory):\n",
    "    full_path = os.path.join(directory, filename)\n",
    "\n",
    "    if os.path.isfile(full_path):\n",
    "        if filename == \"something.txt\":  # your condition here\n",
    "            print(f\"Found it: {full_path}\")"
   ]
  },
  {
   "cell_type": "code",
   "execution_count": 5,
   "id": "a50b98ce-02d3-4df2-8e5f-6b35a184da2e",
   "metadata": {
    "tags": []
   },
   "outputs": [],
   "source": [
    "from rendering.meshes import Mesh\n",
    "from coremaths.vector import Mat3\n",
    "\n",
    "# load an .obj file into a mesh object:\n",
    "  # update to the path of the .obj you want to load\n",
    "\n",
    "def FUNCTION101(meshPath = \"\"):\n",
    "    mesh = Mesh.loadFromOBJ(meshPath)\n",
    "\n",
    "    # get the mean of all the mesh's vertices (as a Vec3 object):\n",
    "    meanVert = mesh.meanVert\n",
    "    print(meanVert)\n",
    "\n",
    "    # shift the mesh to centre it on (0, 0, 0)\n",
    "    # (using a transform with no rotation (rotation matrix equal to identity matrix) and no scaling (scaling equal to 1):\n",
    "    shiftedMesh = mesh.transformed(Mat3.identity(), -meanVert, 1)\n",
    "\n",
    "    # the shifted mesh is centred on (0, 0, 0):\n",
    "    print(shiftedMesh.meanVert)\n",
    "\n",
    "    savePath = None  # update to your desired save path\n",
    "    shiftedMesh.saveOBJ(savePath)\n"
   ]
  },
  {
   "cell_type": "code",
   "execution_count": null,
   "id": "a8cee79b-0e43-4551-9d87-028343f97b41",
   "metadata": {
    "tags": []
   },
   "outputs": [],
   "source": []
  },
  {
   "cell_type": "code",
   "execution_count": 11,
   "id": "92ed76fd-a36c-416b-993b-ff3524a6fd06",
   "metadata": {
    "tags": []
   },
   "outputs": [
    {
     "name": "stdout",
     "output_type": "stream",
     "text": [
      "(56.9016261698881, 60.49013949643947, 242.12583649542222)\n",
      "(3.8859387054387574e-14, -1.4803576020719076e-14, -2.9838457916761886e-14)\n",
      "Issue with C:/Users/matth/Documents/A_Univiersity_Stuff/Physics/4th_Year/PROJECT/physics_project_code_1/public/models\\67p_low_res.obj\n",
      "(-19.0, -4.0, 10.0)\n",
      "(0.0, 0.0, 0.0)\n",
      "Issue with C:/Users/matth/Documents/A_Univiersity_Stuff/Physics/4th_Year/PROJECT/physics_project_code_1/public/models\\cube.obj\n",
      "(-2.0, -14.0, 28.98502495840266)\n",
      "(1.4778343089852333e-17, -8.8670058539114e-18, 7.566511662004395e-16)\n",
      "Issue with C:/Users/matth/Documents/A_Univiersity_Stuff/Physics/4th_Year/PROJECT/physics_project_code_1/public/models\\pointyCone.obj\n",
      "(3.0, -19.0, 2.5)\n",
      "(-3.469446951953614e-17, 0.0, 0.0)\n",
      "Issue with C:/Users/matth/Documents/A_Univiersity_Stuff/Physics/4th_Year/PROJECT/physics_project_code_1/public/models\\ring.obj\n",
      "(-6.0, -22.0, 15.0)\n",
      "(0.0, -1.4802973661668753e-16, 4.440892098500626e-16)\n",
      "Issue with C:/Users/matth/Documents/A_Univiersity_Stuff/Physics/4th_Year/PROJECT/physics_project_code_1/public/models\\shape1.obj\n",
      "(-3.0, -23.999999047619045, 8.0)\n",
      "(9.022764898540955e-17, -2.345918873620648e-15, -1.3534147347811433e-16)\n",
      "Issue with C:/Users/matth/Documents/A_Univiersity_Stuff/Physics/4th_Year/PROJECT/physics_project_code_1/public/models\\shape2.obj\n",
      "(-5.0, -1.0, 10.0)\n",
      "(-3.8546622193133826e-17, 5.1395496257511766e-17, 0.0)\n",
      "Issue with C:/Users/matth/Documents/A_Univiersity_Stuff/Physics/4th_Year/PROJECT/physics_project_code_1/public/models\\sphere.obj\n"
     ]
    }
   ],
   "source": [
    "import os\n",
    "\n",
    "directory = \"C:/Users/matth/Documents/A_Univiersity_Stuff/Physics/4th_Year/PROJECT/physics_project_code_1/public/models\"\n",
    "\n",
    "for filename in os.listdir(directory):\n",
    "    full_path = os.path.join(directory, filename)\n",
    "\n",
    "    if os.path.isfile(full_path):            \n",
    "        if \".obj\" in full_path:\n",
    "            try:\n",
    "                FUNCTION101(full_path)\n",
    "            except:\n",
    "                print(f\"Issue with {full_path}\")"
   ]
  },
  {
   "cell_type": "code",
   "execution_count": null,
   "id": "e742e387-a450-426d-b777-86ded6c8b609",
   "metadata": {},
   "outputs": [],
   "source": []
  }
 ],
 "metadata": {
  "kernelspec": {
   "display_name": "Python 3 (ipykernel)",
   "language": "python",
   "name": "python3"
  },
  "language_info": {
   "codemirror_mode": {
    "name": "ipython",
    "version": 3
   },
   "file_extension": ".py",
   "mimetype": "text/x-python",
   "name": "python",
   "nbconvert_exporter": "python",
   "pygments_lexer": "ipython3",
   "version": "3.11.5"
  }
 },
 "nbformat": 4,
 "nbformat_minor": 5
}
