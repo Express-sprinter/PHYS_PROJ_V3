{
 "cells": [
  {
   "cell_type": "code",
   "execution_count": 1,
   "id": "3be71483-fdc1-49fd-ad9a-b07e8a99d31c",
   "metadata": {
    "tags": []
   },
   "outputs": [
    {
     "ename": "FileNotFoundError",
     "evalue": "[WinError 3] The system cannot find the path specified: 'path/to/your/folder'",
     "output_type": "error",
     "traceback": [
      "\u001b[1;31m---------------------------------------------------------------------------\u001b[0m",
      "\u001b[1;31mFileNotFoundError\u001b[0m                         Traceback (most recent call last)",
      "Cell \u001b[1;32mIn[1], line 5\u001b[0m\n\u001b[0;32m      1\u001b[0m \u001b[38;5;28;01mimport\u001b[39;00m \u001b[38;5;21;01mos\u001b[39;00m\n\u001b[0;32m      3\u001b[0m directory \u001b[38;5;241m=\u001b[39m \u001b[38;5;124m\"\u001b[39m\u001b[38;5;124mpath/to/your/folder\u001b[39m\u001b[38;5;124m\"\u001b[39m\n\u001b[1;32m----> 5\u001b[0m \u001b[38;5;28;01mfor\u001b[39;00m filename \u001b[38;5;129;01min\u001b[39;00m os\u001b[38;5;241m.\u001b[39mlistdir(directory):\n\u001b[0;32m      6\u001b[0m     full_path \u001b[38;5;241m=\u001b[39m os\u001b[38;5;241m.\u001b[39mpath\u001b[38;5;241m.\u001b[39mjoin(directory, filename)\n\u001b[0;32m      8\u001b[0m     \u001b[38;5;28;01mif\u001b[39;00m os\u001b[38;5;241m.\u001b[39mpath\u001b[38;5;241m.\u001b[39misfile(full_path):\n",
      "\u001b[1;31mFileNotFoundError\u001b[0m: [WinError 3] The system cannot find the path specified: 'path/to/your/folder'"
     ]
    }
   ],
   "source": [
    "import os\n",
    "\n",
    "directory = \"path/to/your/folder\"\n",
    "\n",
    "for filename in os.listdir(directory):\n",
    "    full_path = os.path.join(directory, filename)\n",
    "\n",
    "    if os.path.isfile(full_path):\n",
    "        if filename == \"something.txt\":  # your condition here\n",
    "            print(f\"Found it: {full_path}\")"
   ]
  },
  {
   "cell_type": "code",
   "execution_count": 5,
   "id": "a50b98ce-02d3-4df2-8e5f-6b35a184da2e",
   "metadata": {
    "tags": []
   },
   "outputs": [],
   "source": [
    "from rendering.meshes import Mesh\n",
    "from coremaths.vector import Mat3\n",
    "\n",
    "# load an .obj file into a mesh object:\n",
    "  # update to the path of the .obj you want to load\n",
    "\n",
    "def FUNCTION101(meshPath = \"\"):\n",
    "    mesh = Mesh.loadFromOBJ(meshPath)\n",
    "\n",
    "    # get the mean of all the mesh's vertices (as a Vec3 object):\n",
    "    meanVert = mesh.meanVert\n",
    "    print(meanVert)\n",
    "\n",
    "    # shift the mesh to centre it on (0, 0, 0)\n",
    "    # (using a transform with no rotation (rotation matrix equal to identity matrix) and no scaling (scaling equal to 1):\n",
    "    shiftedMesh = mesh.transformed(Mat3.identity(), -meanVert, 1)\n",
    "\n",
    "    # the shifted mesh is centred on (0, 0, 0):\n",
    "    print(shiftedMesh.meanVert)\n",
    "\n",
    "    savePath = None  # update to your desired save path\n",
    "    shiftedMesh.saveOBJ(savePath)\n"
   ]
  },
  {
   "cell_type": "code",
   "execution_count": null,
   "id": "a8cee79b-0e43-4551-9d87-028343f97b41",
   "metadata": {
    "tags": []
   },
   "outputs": [],
   "source": []
  },
  {
   "cell_type": "code",
   "execution_count": 6,
   "id": "92ed76fd-a36c-416b-993b-ff3524a6fd06",
   "metadata": {
    "tags": []
   },
   "outputs": [
    {
     "ename": "FileNotFoundError",
     "evalue": "[WinError 3] The system cannot find the path specified: ''",
     "output_type": "error",
     "traceback": [
      "\u001b[1;31m---------------------------------------------------------------------------\u001b[0m",
      "\u001b[1;31mFileNotFoundError\u001b[0m                         Traceback (most recent call last)",
      "Cell \u001b[1;32mIn[6], line 5\u001b[0m\n\u001b[0;32m      1\u001b[0m \u001b[38;5;28;01mimport\u001b[39;00m \u001b[38;5;21;01mos\u001b[39;00m\n\u001b[0;32m      3\u001b[0m directory \u001b[38;5;241m=\u001b[39m \u001b[38;5;124m\"\u001b[39m\u001b[38;5;124m\"\u001b[39m\n\u001b[1;32m----> 5\u001b[0m \u001b[38;5;28;01mfor\u001b[39;00m filename \u001b[38;5;129;01min\u001b[39;00m os\u001b[38;5;241m.\u001b[39mlistdir(directory):\n\u001b[0;32m      6\u001b[0m     full_path \u001b[38;5;241m=\u001b[39m os\u001b[38;5;241m.\u001b[39mpath\u001b[38;5;241m.\u001b[39mjoin(directory, filename)\n\u001b[0;32m      8\u001b[0m     \u001b[38;5;28;01mif\u001b[39;00m os\u001b[38;5;241m.\u001b[39mpath\u001b[38;5;241m.\u001b[39misfile(full_path):\n",
      "\u001b[1;31mFileNotFoundError\u001b[0m: [WinError 3] The system cannot find the path specified: ''"
     ]
    }
   ],
   "source": [
    "import os\n",
    "\n",
    "directory = \"C:/Users/matth/Documents/A_Univiersity_Stuff/Physics/4th_Year/PROJECT/physics_project_code_1/public/models\"\n",
    "\n",
    "for filename in os.listdir(directory):\n",
    "    full_path = os.path.join(directory, filename)\n",
    "\n",
    "    if os.path.isfile(full_path):\n",
    "        if filename == \"something.txt\":  # your condition here\n",
    "            print(f\"Found it: {full_path}\")\n"
   ]
  },
  {
   "cell_type": "code",
   "execution_count": null,
   "id": "e742e387-a450-426d-b777-86ded6c8b609",
   "metadata": {},
   "outputs": [],
   "source": []
  }
 ],
 "metadata": {
  "kernelspec": {
   "display_name": "Python 3 (ipykernel)",
   "language": "python",
   "name": "python3"
  },
  "language_info": {
   "codemirror_mode": {
    "name": "ipython",
    "version": 3
   },
   "file_extension": ".py",
   "mimetype": "text/x-python",
   "name": "python",
   "nbconvert_exporter": "python",
   "pygments_lexer": "ipython3",
   "version": "3.11.5"
  }
 },
 "nbformat": 4,
 "nbformat_minor": 5
}
