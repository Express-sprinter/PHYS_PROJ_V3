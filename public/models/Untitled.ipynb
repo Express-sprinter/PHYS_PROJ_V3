{
 "cells": [
  {
   "cell_type": "code",
   "execution_count": null,
   "id": "71e6e285-1380-485d-b5e0-380c777dfb94",
   "metadata": {},
   "outputs": [],
   "source": [
    "import math\n",
    "from typing import Tuple, Iterator, List\n",
    "\n",
    "INF = float('inf') #the largest possible intger\n",
    "\n",
    "def sign(x)\n",
    "    return 1 if x>0 else (-1 if x<0 else 0)\n",
    "\n",
    "def voxel_traversal(startPos, endPos):\n",
    "    \n",
    "# turns a set of float points / values into a intger coordinate\n",
    "#\n",
    "    \n",
    "    x0 = startPos[0]\n",
    "    y0 = startPos[1]\n",
    "    z0 = startPos[2]\n",
    "    \n",
    "    x1 = endPos[0]\n",
    "    y1 = endPos[1]\n",
    "    z1 = endPos[2]\n",
    "    \n",
    "    ix = math.floor(x0)\n",
    "    iy = math.floor(y0)\n",
    "    iz = math.floor(z0)\n",
    "\n",
    "    # Target voxel containing p1\n",
    "    tx = math.floor(x1)\n",
    "    ty = math.floor(y1)\n",
    "    tz = math.floor(z1)\n",
    "    \n",
    "    #gets the graident of the line\n",
    "    dy = y1 - y0\n",
    "    dz = z1 - z0\n",
    "    dx = x1 - x0\n",
    "    \n",
    "    #so steps can be found\n",
    "    step_x = sign(dx)\n",
    "    step_y = sign(dy)\n",
    "    step_z = sign(dz)  \n",
    "    \n",
    "    "
   ]
  }
 ],
 "metadata": {
  "kernelspec": {
   "display_name": "Python 3 (ipykernel)",
   "language": "python",
   "name": "python3"
  },
  "language_info": {
   "codemirror_mode": {
    "name": "ipython",
    "version": 3
   },
   "file_extension": ".py",
   "mimetype": "text/x-python",
   "name": "python",
   "nbconvert_exporter": "python",
   "pygments_lexer": "ipython3",
   "version": "3.11.5"
  }
 },
 "nbformat": 4,
 "nbformat_minor": 5
}
