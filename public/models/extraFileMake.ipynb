{
 "cells": [
  {
   "cell_type": "code",
   "execution_count": 13,
   "id": "27a9153d-3a21-43c9-b2e8-47ae033a8939",
   "metadata": {
    "tags": []
   },
   "outputs": [],
   "source": [
    "import json\n",
    "import os\n",
    "\n",
    "\n",
    "def load_obj(path):\n",
    "    vertices = []\n",
    "    faces = []\n",
    "    with open(path, 'r') as f:\n",
    "        for line in f:\n",
    "            if line.startswith('v '):  # vertex\n",
    "                parts = line.strip().split()\n",
    "                vertices.append(tuple(map(float, parts[1:4])))\n",
    "            elif line.startswith('f '):  # face\n",
    "                parts = line.strip().split()\n",
    "                faces.append([int(p.split('/')[0]) - 1 for p in parts[1:]])  # 0-indexed\n",
    "    return vertices, faces\n",
    "\n",
    "def partition_geometry(vertices, faces, cube_size=1.0):\n",
    "    grid = {}\n",
    "\n",
    "    # Map vertices to cubes\n",
    "    vertex_to_cube = {}\n",
    "    for i, (x, y, z) in enumerate(vertices):\n",
    "        cube_index = (\n",
    "            int(x // cube_size),\n",
    "            int(y // cube_size),\n",
    "            int(z // cube_size)\n",
    "        )\n",
    "        vertex_to_cube[i] = cube_index\n",
    "        grid.setdefault(str(cube_index), {'vertices': [], 'faces': []})\n",
    "        grid[str(cube_index)]['vertices'].append(i)\n",
    "\n",
    "    # Map faces to cubes (based on where their vertices are)\n",
    "    for fi, face in enumerate(faces):\n",
    "        cubes_in_face = {vertex_to_cube[v] for v in face}\n",
    "        for cube in cubes_in_face:\n",
    "            grid[str(cube)]['faces'].append(fi)\n",
    "\n",
    "    return grid\n",
    "\n",
    "# --- Example usage ---\n",
    "\n",
    "def usagerion(inputfilenamio):\n",
    "    vertices, faces = load_obj(inputfilenamio)\n",
    "    cbsz = 1.0\n",
    "    grid_data = partition_geometry(vertices, faces, cube_size=cbsz)\n",
    "\n",
    "    # Export for Three.js\n",
    "    output_dir = \"json_objs\"\n",
    "    os.makedirs(output_dir, exist_ok=True)  # create folder if missing\n",
    "\n",
    "    output_path = os.path.join(output_dir, f\"partitioned_{inputfilenamio.replace('.obj', '')}_cbsz{1.0}.json\")\n",
    "    with open(output_path, 'w') as f:\n",
    "        json.dump(grid_data, f, indent=2)\n",
    "        \n",
    "        \n",
    "usagerion(\"sphere.obj\")\n",
    "usagerion(\"shape2.obj\")\n",
    "usagerion(\"shape1.obj\")\n",
    "usagerion(\"ring.obj\")\n",
    "usagerion(\"pointyCone.obj\")\n",
    "usagerion(\"67p_low_res.obj\")\n",
    "usagerion(\"cube.obj\")"
   ]
  },
  {
   "cell_type": "code",
   "execution_count": null,
   "id": "23c462c7-12ad-4ede-b3e3-87b8529e1e55",
   "metadata": {},
   "outputs": [],
   "source": []
  }
 ],
 "metadata": {
  "kernelspec": {
   "display_name": "Python 3 (ipykernel)",
   "language": "python",
   "name": "python3"
  },
  "language_info": {
   "codemirror_mode": {
    "name": "ipython",
    "version": 3
   },
   "file_extension": ".py",
   "mimetype": "text/x-python",
   "name": "python",
   "nbconvert_exporter": "python",
   "pygments_lexer": "ipython3",
   "version": "3.11.5"
  }
 },
 "nbformat": 4,
 "nbformat_minor": 5
}
